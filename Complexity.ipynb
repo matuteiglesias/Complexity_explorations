{
 "cells": [
  {
   "cell_type": "code",
   "execution_count": 9,
   "metadata": {
    "collapsed": false
   },
   "outputs": [],
   "source": [
    "import pandas as pd\n",
    "from pandas import DataFrame,merge,concat,read_csv\n",
    "import numpy as np\n",
    "from requests import get\n",
    "import crisjf_functions as cf\n",
    "import matplotlib.pyplot as plt\n",
    "%matplotlib inline\n"
   ]
  },
  {
   "cell_type": "code",
   "execution_count": 6,
   "metadata": {
    "collapsed": false
   },
   "outputs": [
    {
     "name": "stdout",
     "output_type": "stream",
     "text": [
      "   year origin  hs02  export_val  import_val  export_rca  import_rca\n",
      "1                                                                   \n",
      "2  2003    ago   101        0.00     18430.0    0.000000    0.016827\n",
      "3  2003    ago   102    17821.54   2566670.0    0.004657    1.192530\n",
      "4  2003    ago   104     6711.52     49352.0    0.007064    0.092357\n",
      "5  2003    ago   105        0.00    160058.0    0.000000    0.264245\n",
      "6  2003    ago   106     6458.00     94913.0    0.011895    0.310840\n",
      "            hs02                                               name\n",
      "id                                                                 \n",
      "0101          01                                       Live animals\n",
      "010101      0101             Live horses, asses, mules and hinnies.\n",
      "01010110  010110  Live horses/asses/mules/hinnies: pure-bred bre...\n",
      "01010190  010190  Live horses/asses/mules/hinnies other than pur...\n",
      "010102      0102                               Live bovine animals.\n"
     ]
    }
   ],
   "source": [
    "#Import data\n",
    "\n",
    "#Import export and RCA\n",
    "df = DataFrame.from_csv(\"i_year_origin_hs02_4.tsv\", sep=\"\\t\")\n",
    "\n",
    "df = df.replace(np.nan, 0)\n",
    "\n",
    "#Products\n",
    "prods = DataFrame.from_csv(\"products_hs_02.tsv\", sep=\"\\t\",header=0)\n",
    "\n",
    "#Print heading\n",
    "print(df.head())\n",
    "print(prods.head())\n",
    "\n",
    "# df.to_csv('RCAdata.csv')\n",
    "# prods.to_csv('HS02data.csv')\n",
    "\n",
    "wt, pr, co = cf.trade_data('hs02')"
   ]
  },
  {
   "cell_type": "code",
   "execution_count": 11,
   "metadata": {
    "collapsed": false
   },
   "outputs": [
    {
     "data": {
      "text/plain": [
       "[('brb', 3814),\n",
       " ('bra', 2924),\n",
       " ('aut', 7311),\n",
       " ('che', 3909),\n",
       " ('dnk', 5701),\n",
       " ('aut', 2932),\n",
       " ('and', 7608),\n",
       " ('geo', 8449),\n",
       " ('com', 6306),\n",
       " ('cym', 7208)]"
      ]
     },
     "execution_count": 11,
     "metadata": {},
     "output_type": "execute_result"
    }
   ],
   "source": [
    "# Binarize RCA values\n",
    "wt['export_rca_bin'] = wt['export_rca'] >= 1\n",
    "# Select rows with high RCA and group\n",
    "wt = wt.loc[wt['export_rca_bin'] == True]\n",
    "wtg = wt.groupby(['ccode', \"pcode\"])\n",
    "keys_select = wtg.groups.keys()[:10]\n",
    "keys_select"
   ]
  },
  {
   "cell_type": "code",
   "execution_count": 13,
   "metadata": {
    "collapsed": false
   },
   "outputs": [],
   "source": [
    "def complete(key):\n",
    "    \"\"\"\n",
    "    Completes entries in the groups so that they have nice structure\n",
    "    \"\"\"\n",
    "    gr = wtg.get_group(key)\n",
    "    new_index = pd.Index(range(2003,2016), name=\"year\")\n",
    "    gr.set_index('year')\n",
    "    gr.set_index(\"year\").reindex(new_index)\n",
    "    df = gr.set_index(\"year\").reindex(new_index).reset_index()\n",
    "    c = gr['ccode'].value_counts().idxmax()\n",
    "    df['ccode'] = c\n",
    "    p = gr['pcode'].value_counts().idxmax()\n",
    "    df['pcode'] = p\n",
    "    df['export_rca_bin'] = np.logical_not([np.isnan(i) for i in df['export_rca_bin'].values]).astype('int')\n",
    "    df['diff'] = df['export_rca_bin'].diff()\n",
    "#     gr = df\n",
    "    return df\n",
    "\n",
    "def summarize(df):\n",
    "    \"\"\"\n",
    "    From the output of the function above, make a summary table with one row for each event of RCA going above threshold\n",
    "    \"\"\"\n",
    "    events = df.loc[df['diff'] != 0, ('year','ccode','pcode','export_rca_bin')].reset_index()\n",
    "    # events['diff2'] = events['export_rca_bin'].diff()\n",
    "    ev_sum = events[events['export_rca_bin'] == 1]\n",
    "    idxs = np.array(ev_sum.index)\n",
    "    year_up = np.array(events.ix[idxs]['year'])\n",
    "    year_down = np.array(events.ix[idxs+1]['year'])\n",
    "    ev_sum = DataFrame(data={'year_up': year_up, 'year_down': year_down, 'ccode': df['ccode'], 'pcode' : df['pcode'], 'diff' : year_down-year_up}, index = range(len(year_up)))\n",
    "    ev_sum['end_of_sample'] = ev_sum['year_down'] == 2015\n",
    "    ev_sum['start_of_sample'] = ev_sum['year_up'] == 2003\n",
    "    return ev_sum"
   ]
  },
  {
   "cell_type": "code",
   "execution_count": 14,
   "metadata": {
    "collapsed": false
   },
   "outputs": [
    {
     "data": {
      "text/html": [
       "<div>\n",
       "<table border=\"1\" class=\"dataframe\">\n",
       "  <thead>\n",
       "    <tr style=\"text-align: right;\">\n",
       "      <th></th>\n",
       "      <th>ccode</th>\n",
       "      <th>diff</th>\n",
       "      <th>pcode</th>\n",
       "      <th>year_down</th>\n",
       "      <th>year_up</th>\n",
       "      <th>end_of_sample</th>\n",
       "      <th>start_of_sample</th>\n",
       "    </tr>\n",
       "  </thead>\n",
       "  <tbody>\n",
       "    <tr>\n",
       "      <th>0</th>\n",
       "      <td>brb</td>\n",
       "      <td>3</td>\n",
       "      <td>3814</td>\n",
       "      <td>2010</td>\n",
       "      <td>2007</td>\n",
       "      <td>False</td>\n",
       "      <td>False</td>\n",
       "    </tr>\n",
       "    <tr>\n",
       "      <th>1</th>\n",
       "      <td>brb</td>\n",
       "      <td>1</td>\n",
       "      <td>3814</td>\n",
       "      <td>2012</td>\n",
       "      <td>2011</td>\n",
       "      <td>False</td>\n",
       "      <td>False</td>\n",
       "    </tr>\n",
       "    <tr>\n",
       "      <th>2</th>\n",
       "      <td>brb</td>\n",
       "      <td>2</td>\n",
       "      <td>3814</td>\n",
       "      <td>2015</td>\n",
       "      <td>2013</td>\n",
       "      <td>True</td>\n",
       "      <td>False</td>\n",
       "    </tr>\n",
       "    <tr>\n",
       "      <th>3</th>\n",
       "      <td>bra</td>\n",
       "      <td>1</td>\n",
       "      <td>2924</td>\n",
       "      <td>2009</td>\n",
       "      <td>2008</td>\n",
       "      <td>False</td>\n",
       "      <td>False</td>\n",
       "    </tr>\n",
       "    <tr>\n",
       "      <th>4</th>\n",
       "      <td>aut</td>\n",
       "      <td>12</td>\n",
       "      <td>7311</td>\n",
       "      <td>2015</td>\n",
       "      <td>2003</td>\n",
       "      <td>True</td>\n",
       "      <td>True</td>\n",
       "    </tr>\n",
       "    <tr>\n",
       "      <th>5</th>\n",
       "      <td>che</td>\n",
       "      <td>7</td>\n",
       "      <td>3909</td>\n",
       "      <td>2010</td>\n",
       "      <td>2003</td>\n",
       "      <td>False</td>\n",
       "      <td>True</td>\n",
       "    </tr>\n",
       "    <tr>\n",
       "      <th>6</th>\n",
       "      <td>dnk</td>\n",
       "      <td>1</td>\n",
       "      <td>5701</td>\n",
       "      <td>2015</td>\n",
       "      <td>2014</td>\n",
       "      <td>True</td>\n",
       "      <td>False</td>\n",
       "    </tr>\n",
       "    <tr>\n",
       "      <th>7</th>\n",
       "      <td>aut</td>\n",
       "      <td>1</td>\n",
       "      <td>2932</td>\n",
       "      <td>2008</td>\n",
       "      <td>2007</td>\n",
       "      <td>False</td>\n",
       "      <td>False</td>\n",
       "    </tr>\n",
       "    <tr>\n",
       "      <th>8</th>\n",
       "      <td>aut</td>\n",
       "      <td>1</td>\n",
       "      <td>2932</td>\n",
       "      <td>2010</td>\n",
       "      <td>2009</td>\n",
       "      <td>False</td>\n",
       "      <td>False</td>\n",
       "    </tr>\n",
       "    <tr>\n",
       "      <th>9</th>\n",
       "      <td>aut</td>\n",
       "      <td>1</td>\n",
       "      <td>2932</td>\n",
       "      <td>2012</td>\n",
       "      <td>2011</td>\n",
       "      <td>False</td>\n",
       "      <td>False</td>\n",
       "    </tr>\n",
       "    <tr>\n",
       "      <th>10</th>\n",
       "      <td>aut</td>\n",
       "      <td>2</td>\n",
       "      <td>2932</td>\n",
       "      <td>2015</td>\n",
       "      <td>2013</td>\n",
       "      <td>True</td>\n",
       "      <td>False</td>\n",
       "    </tr>\n",
       "    <tr>\n",
       "      <th>11</th>\n",
       "      <td>and</td>\n",
       "      <td>2</td>\n",
       "      <td>7608</td>\n",
       "      <td>2011</td>\n",
       "      <td>2009</td>\n",
       "      <td>False</td>\n",
       "      <td>False</td>\n",
       "    </tr>\n",
       "    <tr>\n",
       "      <th>12</th>\n",
       "      <td>geo</td>\n",
       "      <td>1</td>\n",
       "      <td>8449</td>\n",
       "      <td>2004</td>\n",
       "      <td>2003</td>\n",
       "      <td>False</td>\n",
       "      <td>True</td>\n",
       "    </tr>\n",
       "    <tr>\n",
       "      <th>13</th>\n",
       "      <td>geo</td>\n",
       "      <td>1</td>\n",
       "      <td>8449</td>\n",
       "      <td>2007</td>\n",
       "      <td>2006</td>\n",
       "      <td>False</td>\n",
       "      <td>False</td>\n",
       "    </tr>\n",
       "    <tr>\n",
       "      <th>14</th>\n",
       "      <td>geo</td>\n",
       "      <td>1</td>\n",
       "      <td>8449</td>\n",
       "      <td>2009</td>\n",
       "      <td>2008</td>\n",
       "      <td>False</td>\n",
       "      <td>False</td>\n",
       "    </tr>\n",
       "    <tr>\n",
       "      <th>15</th>\n",
       "      <td>com</td>\n",
       "      <td>1</td>\n",
       "      <td>6306</td>\n",
       "      <td>2012</td>\n",
       "      <td>2011</td>\n",
       "      <td>False</td>\n",
       "      <td>False</td>\n",
       "    </tr>\n",
       "    <tr>\n",
       "      <th>16</th>\n",
       "      <td>cym</td>\n",
       "      <td>1</td>\n",
       "      <td>7208</td>\n",
       "      <td>2006</td>\n",
       "      <td>2005</td>\n",
       "      <td>False</td>\n",
       "      <td>False</td>\n",
       "    </tr>\n",
       "  </tbody>\n",
       "</table>\n",
       "</div>"
      ],
      "text/plain": [
       "   ccode  diff  pcode  year_down  year_up end_of_sample start_of_sample\n",
       "0    brb     3   3814       2010     2007         False           False\n",
       "1    brb     1   3814       2012     2011         False           False\n",
       "2    brb     2   3814       2015     2013          True           False\n",
       "3    bra     1   2924       2009     2008         False           False\n",
       "4    aut    12   7311       2015     2003          True            True\n",
       "5    che     7   3909       2010     2003         False            True\n",
       "6    dnk     1   5701       2015     2014          True           False\n",
       "7    aut     1   2932       2008     2007         False           False\n",
       "8    aut     1   2932       2010     2009         False           False\n",
       "9    aut     1   2932       2012     2011         False           False\n",
       "10   aut     2   2932       2015     2013          True           False\n",
       "11   and     2   7608       2011     2009         False           False\n",
       "12   geo     1   8449       2004     2003         False            True\n",
       "13   geo     1   8449       2007     2006         False           False\n",
       "14   geo     1   8449       2009     2008         False           False\n",
       "15   com     1   6306       2012     2011         False           False\n",
       "16   cym     1   7208       2006     2005         False           False"
      ]
     },
     "execution_count": 14,
     "metadata": {},
     "output_type": "execute_result"
    }
   ],
   "source": [
    "#To make calculations faster, do them with small data\n",
    "keys_select = wtg.groups.keys()[:10]\n",
    "data = pd.DataFrame([])\n",
    "\n",
    "#Append all summary tables\n",
    "for key in keys_select:\n",
    "    data = data.append(pd.DataFrame(summarize(complete(key))), ignore_index=True)\n",
    "\n",
    "data"
   ]
  },
  {
   "cell_type": "code",
   "execution_count": null,
   "metadata": {
    "collapsed": false
   },
   "outputs": [],
   "source": [
    "\n",
    "\n",
    "# wt1 = wt.loc[wt['export_rca'] >1]\n",
    "# x = wt1.loc[wt['year'] == 2014]\n",
    "# x['pcode'] = x['pcode'].apply(str)\n",
    "\n",
    "# co_contcode = {v: k for k, v in dict(enumerate(np.unique(x['ccode']))).iteritems()}\n",
    "# pr_contcode = {v: k for k, v in dict(enumerate(np.unique(x['pcode']))).iteritems()}\n",
    "\n",
    "# x = x.replace({\"ccode\": co_contcode})\n",
    "# x = x.replace({\"pcode\": pr_contcode})\n",
    "# # x\n",
    "# x = np.asarray(x, dtype=float)\n",
    "# x = np.array(x[:,(1,2)], dtype = int)"
   ]
  },
  {
   "cell_type": "code",
   "execution_count": null,
   "metadata": {
    "collapsed": false
   },
   "outputs": [],
   "source": [
    "# ind = [(row[0], row[1]) for row in x]\n",
    "\n",
    "# RCA = np.zeros((max(x[:,0])+1,max(x[:,1])+1),dtype=bool)\n",
    "\n",
    "# for i in ind:\n",
    "#     RCA[i] = True\n"
   ]
  },
  {
   "cell_type": "code",
   "execution_count": null,
   "metadata": {
    "collapsed": false
   },
   "outputs": [],
   "source": [
    "# plt.figure(figsize=(10,2))\n",
    "# plt.imshow(RCA,cmap=plt.cm.Greys)\n",
    "# plt.show()"
   ]
  },
  {
   "cell_type": "code",
   "execution_count": null,
   "metadata": {
    "collapsed": false
   },
   "outputs": [],
   "source": [
    "# plt.figure(figsize=(25,2))\n",
    "# order = np.argsort([sum(country) for country in RCA])\n",
    "# RCAco = RCA[order]\n",
    "# plt.imshow(RCAco,cmap=plt.cm.Greys)\n",
    "# order2 = np.argsort([sum(prod) for prod in np.transpose(RCAco)])\n",
    "# RCAcopo = np.transpose(np.transpose(RCAco)[order2])\n",
    "# plt.imshow(RCAcopo,cmap=plt.cm.Greys)\n",
    "# plt.show()"
   ]
  },
  {
   "cell_type": "code",
   "execution_count": null,
   "metadata": {
    "collapsed": true
   },
   "outputs": [],
   "source": [
    "# wt1 = wt.loc[wt['export_rca'] >1]\n",
    "# x = wt1.loc[wt['year'] == 2014]\n",
    "# x['pcode'] = x['pcode'].apply(str)\n",
    "\n",
    "# co_contcode = {v: k for k, v in dict(enumerate(np.unique(x['ccode']))).iteritems()}\n",
    "# pr_contcode = {v: k for k, v in dict(enumerate(np.unique(x['pcode']))).iteritems()}\n",
    "\n",
    "# x = x.replace({\"ccode\": co_contcode})\n",
    "# x = x.replace({\"pcode\": pr_contcode})\n",
    "# # x\n",
    "# x = np.asarray(x, dtype=float)\n",
    "# x = np.array(x[:,(1,2)], dtype = int)"
   ]
  },
  {
   "cell_type": "code",
   "execution_count": null,
   "metadata": {
    "collapsed": false
   },
   "outputs": [],
   "source": [
    "# arg = wt.loc[(wt['ccode'] == 'arg')]\n",
    "\n",
    "# n = len(arg)\n",
    "\n",
    "\n",
    "# arg['rca_perc'] = arg['export_rca']\n",
    "# # grouped = arg.groupby('year')\n",
    "# # grouped.agg({'year': arg['rca_perc'].rank(method = 'max')})\n",
    "# arg['rca_perc'] = arg['rca_perc'].rank(method = 'max')/n\n",
    "# arg\n"
   ]
  },
  {
   "cell_type": "code",
   "execution_count": null,
   "metadata": {
    "collapsed": true
   },
   "outputs": [],
   "source": []
  }
 ],
 "metadata": {
  "kernelspec": {
   "display_name": "Python 2",
   "language": "python",
   "name": "python2"
  },
  "language_info": {
   "codemirror_mode": {
    "name": "ipython",
    "version": 2
   },
   "file_extension": ".py",
   "mimetype": "text/x-python",
   "name": "python",
   "nbconvert_exporter": "python",
   "pygments_lexer": "ipython2",
   "version": "2.7.11"
  }
 },
 "nbformat": 4,
 "nbformat_minor": 0
}
