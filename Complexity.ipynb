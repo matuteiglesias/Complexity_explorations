{
 "cells": [
  {
   "cell_type": "code",
   "execution_count": 15,
   "metadata": {
    "collapsed": false
   },
   "outputs": [],
   "source": [
    "import pandas as pd\n",
    "from pandas import DataFrame,merge,concat,read_csv\n",
    "import numpy as np\n",
    "from requests import get\n",
    "import crisjf_functions as cf\n",
    "import matplotlib.pyplot as plt\n",
    "%matplotlib inline\n"
   ]
  },
  {
   "cell_type": "code",
   "execution_count": 6,
   "metadata": {
    "collapsed": false
   },
   "outputs": [
    {
     "name": "stdout",
     "output_type": "stream",
     "text": [
      "   year origin  hs02  export_val  import_val  export_rca  import_rca\n",
      "1                                                                   \n",
      "2  2003    ago   101        0.00     18430.0    0.000000    0.016827\n",
      "3  2003    ago   102    17821.54   2566670.0    0.004657    1.192530\n",
      "4  2003    ago   104     6711.52     49352.0    0.007064    0.092357\n",
      "5  2003    ago   105        0.00    160058.0    0.000000    0.264245\n",
      "6  2003    ago   106     6458.00     94913.0    0.011895    0.310840\n",
      "            hs02                                               name\n",
      "id                                                                 \n",
      "0101          01                                       Live animals\n",
      "010101      0101             Live horses, asses, mules and hinnies.\n",
      "01010110  010110  Live horses/asses/mules/hinnies: pure-bred bre...\n",
      "01010190  010190  Live horses/asses/mules/hinnies other than pur...\n",
      "010102      0102                               Live bovine animals.\n"
     ]
    }
   ],
   "source": [
    "#Import data\n",
    "\n",
    "#Import export and RCA\n",
    "df = DataFrame.from_csv(\"i_year_origin_hs02_4.tsv\", sep=\"\\t\")\n",
    "\n",
    "df = df.replace(np.nan, 0)\n",
    "\n",
    "#Products\n",
    "prods = DataFrame.from_csv(\"products_hs_02.tsv\", sep=\"\\t\",header=0)\n",
    "\n",
    "#Print heading\n",
    "print(df.head())\n",
    "print(prods.head())\n",
    "\n",
    "# df.to_csv('RCAdata.csv')\n",
    "# prods.to_csv('HS02data.csv')\n",
    "\n",
    "wt, pr, co = cf.trade_data('hs02')"
   ]
  },
  {
   "cell_type": "code",
   "execution_count": 11,
   "metadata": {
    "collapsed": false
   },
   "outputs": [
    {
     "data": {
      "text/plain": [
       "[('brb', 3814),\n",
       " ('bra', 2924),\n",
       " ('aut', 7311),\n",
       " ('che', 3909),\n",
       " ('dnk', 5701),\n",
       " ('aut', 2932),\n",
       " ('and', 7608),\n",
       " ('geo', 8449),\n",
       " ('com', 6306),\n",
       " ('cym', 7208)]"
      ]
     },
     "execution_count": 11,
     "metadata": {},
     "output_type": "execute_result"
    }
   ],
   "source": [
    "# Binarize RCA values\n",
    "wt['export_rca_bin'] = wt['export_rca'] >= 1\n",
    "# Select rows with high RCA and group\n",
    "wt = wt.loc[wt['export_rca_bin'] == True]\n",
    "wtg = wt.groupby(['ccode', \"pcode\"])\n",
    "keys_select = wtg.groups.keys()[:10]\n",
    "keys_select"
   ]
  },
  {
   "cell_type": "code",
   "execution_count": 18,
   "metadata": {
    "collapsed": false
   },
   "outputs": [
    {
     "name": "stdout",
     "output_type": "stream",
     "text": [
      "    year ccode  pcode             x  export_rca  export_rca_bin  diff\n",
      "0   2003   che   3909  1.083874e+08     1.30115               1   NaN\n",
      "1   2004   che   3909  1.349213e+08     1.40400               1   0.0\n",
      "2   2005   che   3909  1.423045e+08     1.32700               1   0.0\n",
      "3   2006   che   3909  1.632327e+08     1.38100               1   0.0\n",
      "4   2007   che   3909  2.323037e+08     1.48900               1   0.0\n",
      "5   2008   che   3909  2.392519e+08     1.41000               1   0.0\n",
      "6   2009   che   3909  1.499433e+08     1.07800               1   0.0\n",
      "7   2010   che   3909           NaN         NaN               0  -1.0\n",
      "8   2011   che   3909           NaN         NaN               0   0.0\n",
      "9   2012   che   3909           NaN         NaN               0   0.0\n",
      "10  2013   che   3909           NaN         NaN               0   0.0\n",
      "11  2014   che   3909           NaN         NaN               0   0.0\n",
      "12  2015   che   3909           NaN         NaN               0   0.0\n",
      "  ccode  diff  pcode  year_down  year_up end_of_sample start_of_sample\n",
      "0   che     7   3909       2010     2003         False            True\n"
     ]
    }
   ],
   "source": [
    "def complete(key):\n",
    "    \"\"\"\n",
    "    Completes entries in the groups so that they have nice structure. Input is the tuple key: ('ccode', pcode)\n",
    "    \"\"\"\n",
    "    gr = wtg.get_group(key)\n",
    "    #This is to complete the missing year rows (missing data and low RCA)\n",
    "    new_index = pd.Index(range(2003,2016), name=\"year\")\n",
    "    gr.set_index('year')\n",
    "    gr.set_index(\"year\").reindex(new_index)\n",
    "    df = gr.set_index(\"year\").reindex(new_index).reset_index()\n",
    "    #The inserted cols are empty, complete ccode and pcode of this group\n",
    "    c = gr['ccode'].value_counts().idxmax()\n",
    "    df['ccode'] = c\n",
    "    p = gr['pcode'].value_counts().idxmax()\n",
    "    df['pcode'] = p\n",
    "    #Binary RCA column is now like (NaN, True, Nan, True), convert this to (0,1,0,1)\n",
    "    df['export_rca_bin'] = np.logical_not([np.isnan(i) for i in df['export_rca_bin'].values]).astype('int')\n",
    "    #Difference of this col, lets us detect ups and downs of RCAs\n",
    "    df['diff'] = df['export_rca_bin'].diff()\n",
    "    return df\n",
    "\n",
    "def summarize(df):\n",
    "    \"\"\"\n",
    "    From the output of the function above, make a summary table with one row for each event of RCA going above threshold\n",
    "    \"\"\"\n",
    "    #Events are the years when RCA goes up or down\n",
    "    events = df.loc[df['diff'] != 0, ('year','ccode','pcode','export_rca_bin')].reset_index()\n",
    "    #Build the events summary df\n",
    "    ev_sum = events[events['export_rca_bin'] == 1]\n",
    "    idxs = np.array(ev_sum.index)\n",
    "    year_up = np.array(events.ix[idxs]['year'])\n",
    "    year_down = np.array(events.ix[idxs+1]['year'])\n",
    "    ev_sum = DataFrame(data={'year_up': year_up, 'year_down': year_down, 'ccode': df['ccode'], 'pcode' : df['pcode'], 'diff' : year_down-year_up}, index = range(len(year_up)))\n",
    "    #Denote when RCA is up since the beginning, or continues up till the end of sample\n",
    "    ev_sum['end_of_sample'] = ev_sum['year_down'] == 2015\n",
    "    ev_sum['start_of_sample'] = ev_sum['year_up'] == 2003\n",
    "    return ev_sum\n",
    "\n",
    "# Example\n",
    "print complete(('che',3909))\n",
    "\n",
    "print summarize(complete(('che',3909)))"
   ]
  },
  {
   "cell_type": "code",
   "execution_count": 14,
   "metadata": {
    "collapsed": false
   },
   "outputs": [
    {
     "data": {
      "text/html": [
       "<div>\n",
       "<table border=\"1\" class=\"dataframe\">\n",
       "  <thead>\n",
       "    <tr style=\"text-align: right;\">\n",
       "      <th></th>\n",
       "      <th>ccode</th>\n",
       "      <th>diff</th>\n",
       "      <th>pcode</th>\n",
       "      <th>year_down</th>\n",
       "      <th>year_up</th>\n",
       "      <th>end_of_sample</th>\n",
       "      <th>start_of_sample</th>\n",
       "    </tr>\n",
       "  </thead>\n",
       "  <tbody>\n",
       "    <tr>\n",
       "      <th>0</th>\n",
       "      <td>brb</td>\n",
       "      <td>3</td>\n",
       "      <td>3814</td>\n",
       "      <td>2010</td>\n",
       "      <td>2007</td>\n",
       "      <td>False</td>\n",
       "      <td>False</td>\n",
       "    </tr>\n",
       "    <tr>\n",
       "      <th>1</th>\n",
       "      <td>brb</td>\n",
       "      <td>1</td>\n",
       "      <td>3814</td>\n",
       "      <td>2012</td>\n",
       "      <td>2011</td>\n",
       "      <td>False</td>\n",
       "      <td>False</td>\n",
       "    </tr>\n",
       "    <tr>\n",
       "      <th>2</th>\n",
       "      <td>brb</td>\n",
       "      <td>2</td>\n",
       "      <td>3814</td>\n",
       "      <td>2015</td>\n",
       "      <td>2013</td>\n",
       "      <td>True</td>\n",
       "      <td>False</td>\n",
       "    </tr>\n",
       "    <tr>\n",
       "      <th>3</th>\n",
       "      <td>bra</td>\n",
       "      <td>1</td>\n",
       "      <td>2924</td>\n",
       "      <td>2009</td>\n",
       "      <td>2008</td>\n",
       "      <td>False</td>\n",
       "      <td>False</td>\n",
       "    </tr>\n",
       "    <tr>\n",
       "      <th>4</th>\n",
       "      <td>aut</td>\n",
       "      <td>12</td>\n",
       "      <td>7311</td>\n",
       "      <td>2015</td>\n",
       "      <td>2003</td>\n",
       "      <td>True</td>\n",
       "      <td>True</td>\n",
       "    </tr>\n",
       "    <tr>\n",
       "      <th>5</th>\n",
       "      <td>che</td>\n",
       "      <td>7</td>\n",
       "      <td>3909</td>\n",
       "      <td>2010</td>\n",
       "      <td>2003</td>\n",
       "      <td>False</td>\n",
       "      <td>True</td>\n",
       "    </tr>\n",
       "    <tr>\n",
       "      <th>6</th>\n",
       "      <td>dnk</td>\n",
       "      <td>1</td>\n",
       "      <td>5701</td>\n",
       "      <td>2015</td>\n",
       "      <td>2014</td>\n",
       "      <td>True</td>\n",
       "      <td>False</td>\n",
       "    </tr>\n",
       "    <tr>\n",
       "      <th>7</th>\n",
       "      <td>aut</td>\n",
       "      <td>1</td>\n",
       "      <td>2932</td>\n",
       "      <td>2008</td>\n",
       "      <td>2007</td>\n",
       "      <td>False</td>\n",
       "      <td>False</td>\n",
       "    </tr>\n",
       "    <tr>\n",
       "      <th>8</th>\n",
       "      <td>aut</td>\n",
       "      <td>1</td>\n",
       "      <td>2932</td>\n",
       "      <td>2010</td>\n",
       "      <td>2009</td>\n",
       "      <td>False</td>\n",
       "      <td>False</td>\n",
       "    </tr>\n",
       "    <tr>\n",
       "      <th>9</th>\n",
       "      <td>aut</td>\n",
       "      <td>1</td>\n",
       "      <td>2932</td>\n",
       "      <td>2012</td>\n",
       "      <td>2011</td>\n",
       "      <td>False</td>\n",
       "      <td>False</td>\n",
       "    </tr>\n",
       "    <tr>\n",
       "      <th>10</th>\n",
       "      <td>aut</td>\n",
       "      <td>2</td>\n",
       "      <td>2932</td>\n",
       "      <td>2015</td>\n",
       "      <td>2013</td>\n",
       "      <td>True</td>\n",
       "      <td>False</td>\n",
       "    </tr>\n",
       "    <tr>\n",
       "      <th>11</th>\n",
       "      <td>and</td>\n",
       "      <td>2</td>\n",
       "      <td>7608</td>\n",
       "      <td>2011</td>\n",
       "      <td>2009</td>\n",
       "      <td>False</td>\n",
       "      <td>False</td>\n",
       "    </tr>\n",
       "    <tr>\n",
       "      <th>12</th>\n",
       "      <td>geo</td>\n",
       "      <td>1</td>\n",
       "      <td>8449</td>\n",
       "      <td>2004</td>\n",
       "      <td>2003</td>\n",
       "      <td>False</td>\n",
       "      <td>True</td>\n",
       "    </tr>\n",
       "    <tr>\n",
       "      <th>13</th>\n",
       "      <td>geo</td>\n",
       "      <td>1</td>\n",
       "      <td>8449</td>\n",
       "      <td>2007</td>\n",
       "      <td>2006</td>\n",
       "      <td>False</td>\n",
       "      <td>False</td>\n",
       "    </tr>\n",
       "    <tr>\n",
       "      <th>14</th>\n",
       "      <td>geo</td>\n",
       "      <td>1</td>\n",
       "      <td>8449</td>\n",
       "      <td>2009</td>\n",
       "      <td>2008</td>\n",
       "      <td>False</td>\n",
       "      <td>False</td>\n",
       "    </tr>\n",
       "    <tr>\n",
       "      <th>15</th>\n",
       "      <td>com</td>\n",
       "      <td>1</td>\n",
       "      <td>6306</td>\n",
       "      <td>2012</td>\n",
       "      <td>2011</td>\n",
       "      <td>False</td>\n",
       "      <td>False</td>\n",
       "    </tr>\n",
       "    <tr>\n",
       "      <th>16</th>\n",
       "      <td>cym</td>\n",
       "      <td>1</td>\n",
       "      <td>7208</td>\n",
       "      <td>2006</td>\n",
       "      <td>2005</td>\n",
       "      <td>False</td>\n",
       "      <td>False</td>\n",
       "    </tr>\n",
       "  </tbody>\n",
       "</table>\n",
       "</div>"
      ],
      "text/plain": [
       "   ccode  diff  pcode  year_down  year_up end_of_sample start_of_sample\n",
       "0    brb     3   3814       2010     2007         False           False\n",
       "1    brb     1   3814       2012     2011         False           False\n",
       "2    brb     2   3814       2015     2013          True           False\n",
       "3    bra     1   2924       2009     2008         False           False\n",
       "4    aut    12   7311       2015     2003          True            True\n",
       "5    che     7   3909       2010     2003         False            True\n",
       "6    dnk     1   5701       2015     2014          True           False\n",
       "7    aut     1   2932       2008     2007         False           False\n",
       "8    aut     1   2932       2010     2009         False           False\n",
       "9    aut     1   2932       2012     2011         False           False\n",
       "10   aut     2   2932       2015     2013          True           False\n",
       "11   and     2   7608       2011     2009         False           False\n",
       "12   geo     1   8449       2004     2003         False            True\n",
       "13   geo     1   8449       2007     2006         False           False\n",
       "14   geo     1   8449       2009     2008         False           False\n",
       "15   com     1   6306       2012     2011         False           False\n",
       "16   cym     1   7208       2006     2005         False           False"
      ]
     },
     "execution_count": 14,
     "metadata": {},
     "output_type": "execute_result"
    }
   ],
   "source": [
    "#To make calculations faster, do them with small data\n",
    "keys_select = wtg.groups.keys()[:10] #There is a strange bug with this, if you take bigger data, you get the error below..\n",
    "data = pd.DataFrame([])\n",
    "\n",
    "#Append all summary tables\n",
    "for key in keys_select:\n",
    "    data = data.append(pd.DataFrame(summarize(complete(key))), ignore_index=True)\n",
    "\n",
    "data\n",
    "\n",
    "#Next step is to add density col"
   ]
  },
  {
   "cell_type": "code",
   "execution_count": 19,
   "metadata": {
    "collapsed": false
   },
   "outputs": [
    {
     "ename": "ValueError",
     "evalue": "cannot reindex from a duplicate axis",
     "output_type": "error",
     "traceback": [
      "\u001b[1;31m---------------------------------------------------------------------------\u001b[0m",
      "\u001b[1;31mValueError\u001b[0m                                Traceback (most recent call last)",
      "\u001b[1;32m<ipython-input-19-86b6a20f7c8a>\u001b[0m in \u001b[0;36m<module>\u001b[1;34m()\u001b[0m\n\u001b[0;32m      4\u001b[0m \u001b[1;31m#Append all summary tables\u001b[0m\u001b[1;33m\u001b[0m\u001b[1;33m\u001b[0m\u001b[0m\n\u001b[0;32m      5\u001b[0m \u001b[1;32mfor\u001b[0m \u001b[0mkey\u001b[0m \u001b[1;32min\u001b[0m \u001b[0mkeys_select\u001b[0m\u001b[1;33m:\u001b[0m\u001b[1;33m\u001b[0m\u001b[0m\n\u001b[1;32m----> 6\u001b[1;33m     \u001b[0mdata\u001b[0m \u001b[1;33m=\u001b[0m \u001b[0mdata\u001b[0m\u001b[1;33m.\u001b[0m\u001b[0mappend\u001b[0m\u001b[1;33m(\u001b[0m\u001b[0mpd\u001b[0m\u001b[1;33m.\u001b[0m\u001b[0mDataFrame\u001b[0m\u001b[1;33m(\u001b[0m\u001b[0msummarize\u001b[0m\u001b[1;33m(\u001b[0m\u001b[0mcomplete\u001b[0m\u001b[1;33m(\u001b[0m\u001b[0mkey\u001b[0m\u001b[1;33m)\u001b[0m\u001b[1;33m)\u001b[0m\u001b[1;33m)\u001b[0m\u001b[1;33m,\u001b[0m \u001b[0mignore_index\u001b[0m\u001b[1;33m=\u001b[0m\u001b[0mTrue\u001b[0m\u001b[1;33m)\u001b[0m\u001b[1;33m\u001b[0m\u001b[0m\n\u001b[0m\u001b[0;32m      7\u001b[0m \u001b[1;33m\u001b[0m\u001b[0m\n\u001b[0;32m      8\u001b[0m \u001b[0mdata\u001b[0m\u001b[1;33m\u001b[0m\u001b[0m\n",
      "\u001b[1;32m<ipython-input-18-931b89e3cbc7>\u001b[0m in \u001b[0;36mcomplete\u001b[1;34m(key)\u001b[0m\n\u001b[0;32m      7\u001b[0m     \u001b[0mnew_index\u001b[0m \u001b[1;33m=\u001b[0m \u001b[0mpd\u001b[0m\u001b[1;33m.\u001b[0m\u001b[0mIndex\u001b[0m\u001b[1;33m(\u001b[0m\u001b[0mrange\u001b[0m\u001b[1;33m(\u001b[0m\u001b[1;36m2003\u001b[0m\u001b[1;33m,\u001b[0m\u001b[1;36m2016\u001b[0m\u001b[1;33m)\u001b[0m\u001b[1;33m,\u001b[0m \u001b[0mname\u001b[0m\u001b[1;33m=\u001b[0m\u001b[1;34m\"year\"\u001b[0m\u001b[1;33m)\u001b[0m\u001b[1;33m\u001b[0m\u001b[0m\n\u001b[0;32m      8\u001b[0m     \u001b[0mgr\u001b[0m\u001b[1;33m.\u001b[0m\u001b[0mset_index\u001b[0m\u001b[1;33m(\u001b[0m\u001b[1;34m'year'\u001b[0m\u001b[1;33m)\u001b[0m\u001b[1;33m\u001b[0m\u001b[0m\n\u001b[1;32m----> 9\u001b[1;33m     \u001b[0mgr\u001b[0m\u001b[1;33m.\u001b[0m\u001b[0mset_index\u001b[0m\u001b[1;33m(\u001b[0m\u001b[1;34m\"year\"\u001b[0m\u001b[1;33m)\u001b[0m\u001b[1;33m.\u001b[0m\u001b[0mreindex\u001b[0m\u001b[1;33m(\u001b[0m\u001b[0mnew_index\u001b[0m\u001b[1;33m)\u001b[0m\u001b[1;33m\u001b[0m\u001b[0m\n\u001b[0m\u001b[0;32m     10\u001b[0m     \u001b[0mdf\u001b[0m \u001b[1;33m=\u001b[0m \u001b[0mgr\u001b[0m\u001b[1;33m.\u001b[0m\u001b[0mset_index\u001b[0m\u001b[1;33m(\u001b[0m\u001b[1;34m\"year\"\u001b[0m\u001b[1;33m)\u001b[0m\u001b[1;33m.\u001b[0m\u001b[0mreindex\u001b[0m\u001b[1;33m(\u001b[0m\u001b[0mnew_index\u001b[0m\u001b[1;33m)\u001b[0m\u001b[1;33m.\u001b[0m\u001b[0mreset_index\u001b[0m\u001b[1;33m(\u001b[0m\u001b[1;33m)\u001b[0m\u001b[1;33m\u001b[0m\u001b[0m\n\u001b[0;32m     11\u001b[0m     \u001b[1;31m#The inserted cols are empty, complete ccode and pcode of this group\u001b[0m\u001b[1;33m\u001b[0m\u001b[1;33m\u001b[0m\u001b[0m\n",
      "\u001b[1;32m/home/miglesia/anaconda2/lib/python2.7/site-packages/pandas/core/frame.pyc\u001b[0m in \u001b[0;36mreindex\u001b[1;34m(self, index, columns, **kwargs)\u001b[0m\n\u001b[0;32m   2819\u001b[0m     \u001b[1;32mdef\u001b[0m \u001b[0mreindex\u001b[0m\u001b[1;33m(\u001b[0m\u001b[0mself\u001b[0m\u001b[1;33m,\u001b[0m \u001b[0mindex\u001b[0m\u001b[1;33m=\u001b[0m\u001b[0mNone\u001b[0m\u001b[1;33m,\u001b[0m \u001b[0mcolumns\u001b[0m\u001b[1;33m=\u001b[0m\u001b[0mNone\u001b[0m\u001b[1;33m,\u001b[0m \u001b[1;33m**\u001b[0m\u001b[0mkwargs\u001b[0m\u001b[1;33m)\u001b[0m\u001b[1;33m:\u001b[0m\u001b[1;33m\u001b[0m\u001b[0m\n\u001b[0;32m   2820\u001b[0m         return super(DataFrame, self).reindex(index=index, columns=columns,\n\u001b[1;32m-> 2821\u001b[1;33m                                               **kwargs)\n\u001b[0m\u001b[0;32m   2822\u001b[0m \u001b[1;33m\u001b[0m\u001b[0m\n\u001b[0;32m   2823\u001b[0m     \u001b[1;33m@\u001b[0m\u001b[0mAppender\u001b[0m\u001b[1;33m(\u001b[0m\u001b[0m_shared_docs\u001b[0m\u001b[1;33m[\u001b[0m\u001b[1;34m'reindex_axis'\u001b[0m\u001b[1;33m]\u001b[0m \u001b[1;33m%\u001b[0m \u001b[0m_shared_doc_kwargs\u001b[0m\u001b[1;33m)\u001b[0m\u001b[1;33m\u001b[0m\u001b[0m\n",
      "\u001b[1;32m/home/miglesia/anaconda2/lib/python2.7/site-packages/pandas/core/generic.pyc\u001b[0m in \u001b[0;36mreindex\u001b[1;34m(self, *args, **kwargs)\u001b[0m\n\u001b[0;32m   2257\u001b[0m         \u001b[1;31m# perform the reindex on the axes\u001b[0m\u001b[1;33m\u001b[0m\u001b[1;33m\u001b[0m\u001b[0m\n\u001b[0;32m   2258\u001b[0m         return self._reindex_axes(axes, level, limit, tolerance, method,\n\u001b[1;32m-> 2259\u001b[1;33m                                   fill_value, copy).__finalize__(self)\n\u001b[0m\u001b[0;32m   2260\u001b[0m \u001b[1;33m\u001b[0m\u001b[0m\n\u001b[0;32m   2261\u001b[0m     def _reindex_axes(self, axes, level, limit, tolerance, method, fill_value,\n",
      "\u001b[1;32m/home/miglesia/anaconda2/lib/python2.7/site-packages/pandas/core/frame.pyc\u001b[0m in \u001b[0;36m_reindex_axes\u001b[1;34m(self, axes, level, limit, tolerance, method, fill_value, copy)\u001b[0m\n\u001b[0;32m   2765\u001b[0m         \u001b[1;32mif\u001b[0m \u001b[0mindex\u001b[0m \u001b[1;32mis\u001b[0m \u001b[1;32mnot\u001b[0m \u001b[0mNone\u001b[0m\u001b[1;33m:\u001b[0m\u001b[1;33m\u001b[0m\u001b[0m\n\u001b[0;32m   2766\u001b[0m             frame = frame._reindex_index(index, method, copy, level,\n\u001b[1;32m-> 2767\u001b[1;33m                                          fill_value, limit, tolerance)\n\u001b[0m\u001b[0;32m   2768\u001b[0m \u001b[1;33m\u001b[0m\u001b[0m\n\u001b[0;32m   2769\u001b[0m         \u001b[1;32mreturn\u001b[0m \u001b[0mframe\u001b[0m\u001b[1;33m\u001b[0m\u001b[0m\n",
      "\u001b[1;32m/home/miglesia/anaconda2/lib/python2.7/site-packages/pandas/core/frame.pyc\u001b[0m in \u001b[0;36m_reindex_index\u001b[1;34m(self, new_index, method, copy, level, fill_value, limit, tolerance)\u001b[0m\n\u001b[0;32m   2776\u001b[0m         return self._reindex_with_indexers({0: [new_index, indexer]},\n\u001b[0;32m   2777\u001b[0m                                            \u001b[0mcopy\u001b[0m\u001b[1;33m=\u001b[0m\u001b[0mcopy\u001b[0m\u001b[1;33m,\u001b[0m \u001b[0mfill_value\u001b[0m\u001b[1;33m=\u001b[0m\u001b[0mfill_value\u001b[0m\u001b[1;33m,\u001b[0m\u001b[1;33m\u001b[0m\u001b[0m\n\u001b[1;32m-> 2778\u001b[1;33m                                            allow_dups=False)\n\u001b[0m\u001b[0;32m   2779\u001b[0m \u001b[1;33m\u001b[0m\u001b[0m\n\u001b[0;32m   2780\u001b[0m     def _reindex_columns(self, new_columns, copy, level, fill_value=NA,\n",
      "\u001b[1;32m/home/miglesia/anaconda2/lib/python2.7/site-packages/pandas/core/generic.pyc\u001b[0m in \u001b[0;36m_reindex_with_indexers\u001b[1;34m(self, reindexers, fill_value, copy, allow_dups)\u001b[0m\n\u001b[0;32m   2369\u001b[0m                                                 \u001b[0mfill_value\u001b[0m\u001b[1;33m=\u001b[0m\u001b[0mfill_value\u001b[0m\u001b[1;33m,\u001b[0m\u001b[1;33m\u001b[0m\u001b[0m\n\u001b[0;32m   2370\u001b[0m                                                 \u001b[0mallow_dups\u001b[0m\u001b[1;33m=\u001b[0m\u001b[0mallow_dups\u001b[0m\u001b[1;33m,\u001b[0m\u001b[1;33m\u001b[0m\u001b[0m\n\u001b[1;32m-> 2371\u001b[1;33m                                                 copy=copy)\n\u001b[0m\u001b[0;32m   2372\u001b[0m \u001b[1;33m\u001b[0m\u001b[0m\n\u001b[0;32m   2373\u001b[0m         \u001b[1;32mif\u001b[0m \u001b[0mcopy\u001b[0m \u001b[1;32mand\u001b[0m \u001b[0mnew_data\u001b[0m \u001b[1;32mis\u001b[0m \u001b[0mself\u001b[0m\u001b[1;33m.\u001b[0m\u001b[0m_data\u001b[0m\u001b[1;33m:\u001b[0m\u001b[1;33m\u001b[0m\u001b[0m\n",
      "\u001b[1;32m/home/miglesia/anaconda2/lib/python2.7/site-packages/pandas/core/internals.pyc\u001b[0m in \u001b[0;36mreindex_indexer\u001b[1;34m(self, new_axis, indexer, axis, fill_value, allow_dups, copy)\u001b[0m\n\u001b[0;32m   3837\u001b[0m         \u001b[1;31m# some axes don't allow reindexing with dups\u001b[0m\u001b[1;33m\u001b[0m\u001b[1;33m\u001b[0m\u001b[0m\n\u001b[0;32m   3838\u001b[0m         \u001b[1;32mif\u001b[0m \u001b[1;32mnot\u001b[0m \u001b[0mallow_dups\u001b[0m\u001b[1;33m:\u001b[0m\u001b[1;33m\u001b[0m\u001b[0m\n\u001b[1;32m-> 3839\u001b[1;33m             \u001b[0mself\u001b[0m\u001b[1;33m.\u001b[0m\u001b[0maxes\u001b[0m\u001b[1;33m[\u001b[0m\u001b[0maxis\u001b[0m\u001b[1;33m]\u001b[0m\u001b[1;33m.\u001b[0m\u001b[0m_can_reindex\u001b[0m\u001b[1;33m(\u001b[0m\u001b[0mindexer\u001b[0m\u001b[1;33m)\u001b[0m\u001b[1;33m\u001b[0m\u001b[0m\n\u001b[0m\u001b[0;32m   3840\u001b[0m \u001b[1;33m\u001b[0m\u001b[0m\n\u001b[0;32m   3841\u001b[0m         \u001b[1;32mif\u001b[0m \u001b[0maxis\u001b[0m \u001b[1;33m>=\u001b[0m \u001b[0mself\u001b[0m\u001b[1;33m.\u001b[0m\u001b[0mndim\u001b[0m\u001b[1;33m:\u001b[0m\u001b[1;33m\u001b[0m\u001b[0m\n",
      "\u001b[1;32m/home/miglesia/anaconda2/lib/python2.7/site-packages/pandas/indexes/base.pyc\u001b[0m in \u001b[0;36m_can_reindex\u001b[1;34m(self, indexer)\u001b[0m\n\u001b[0;32m   2492\u001b[0m         \u001b[1;31m# trying to reindex on an axis with duplicates\u001b[0m\u001b[1;33m\u001b[0m\u001b[1;33m\u001b[0m\u001b[0m\n\u001b[0;32m   2493\u001b[0m         \u001b[1;32mif\u001b[0m \u001b[1;32mnot\u001b[0m \u001b[0mself\u001b[0m\u001b[1;33m.\u001b[0m\u001b[0mis_unique\u001b[0m \u001b[1;32mand\u001b[0m \u001b[0mlen\u001b[0m\u001b[1;33m(\u001b[0m\u001b[0mindexer\u001b[0m\u001b[1;33m)\u001b[0m\u001b[1;33m:\u001b[0m\u001b[1;33m\u001b[0m\u001b[0m\n\u001b[1;32m-> 2494\u001b[1;33m             \u001b[1;32mraise\u001b[0m \u001b[0mValueError\u001b[0m\u001b[1;33m(\u001b[0m\u001b[1;34m\"cannot reindex from a duplicate axis\"\u001b[0m\u001b[1;33m)\u001b[0m\u001b[1;33m\u001b[0m\u001b[0m\n\u001b[0m\u001b[0;32m   2495\u001b[0m \u001b[1;33m\u001b[0m\u001b[0m\n\u001b[0;32m   2496\u001b[0m     def reindex(self, target, method=None, level=None, limit=None,\n",
      "\u001b[1;31mValueError\u001b[0m: cannot reindex from a duplicate axis"
     ]
    }
   ],
   "source": [
    "keys_select = wtg.groups.keys()[:10000] #Bigger data (total rows are ~70 000)\n",
    "data = pd.DataFrame([])\n",
    "\n",
    "#Append all summary tables\n",
    "for key in keys_select:\n",
    "    data = data.append(pd.DataFrame(summarize(complete(key))), ignore_index=True)\n",
    "\n",
    "data"
   ]
  },
  {
   "cell_type": "code",
   "execution_count": null,
   "metadata": {
    "collapsed": false
   },
   "outputs": [],
   "source": [
    "\n",
    "\n",
    "# wt1 = wt.loc[wt['export_rca'] >1]\n",
    "# x = wt1.loc[wt['year'] == 2014]\n",
    "# x['pcode'] = x['pcode'].apply(str)\n",
    "\n",
    "# co_contcode = {v: k for k, v in dict(enumerate(np.unique(x['ccode']))).iteritems()}\n",
    "# pr_contcode = {v: k for k, v in dict(enumerate(np.unique(x['pcode']))).iteritems()}\n",
    "\n",
    "# x = x.replace({\"ccode\": co_contcode})\n",
    "# x = x.replace({\"pcode\": pr_contcode})\n",
    "# # x\n",
    "# x = np.asarray(x, dtype=float)\n",
    "# x = np.array(x[:,(1,2)], dtype = int)"
   ]
  },
  {
   "cell_type": "code",
   "execution_count": null,
   "metadata": {
    "collapsed": false
   },
   "outputs": [],
   "source": [
    "# ind = [(row[0], row[1]) for row in x]\n",
    "\n",
    "# RCA = np.zeros((max(x[:,0])+1,max(x[:,1])+1),dtype=bool)\n",
    "\n",
    "# for i in ind:\n",
    "#     RCA[i] = True\n"
   ]
  },
  {
   "cell_type": "code",
   "execution_count": null,
   "metadata": {
    "collapsed": false
   },
   "outputs": [],
   "source": [
    "# plt.figure(figsize=(10,2))\n",
    "# plt.imshow(RCA,cmap=plt.cm.Greys)\n",
    "# plt.show()"
   ]
  },
  {
   "cell_type": "code",
   "execution_count": null,
   "metadata": {
    "collapsed": false
   },
   "outputs": [],
   "source": [
    "# plt.figure(figsize=(25,2))\n",
    "# order = np.argsort([sum(country) for country in RCA])\n",
    "# RCAco = RCA[order]\n",
    "# plt.imshow(RCAco,cmap=plt.cm.Greys)\n",
    "# order2 = np.argsort([sum(prod) for prod in np.transpose(RCAco)])\n",
    "# RCAcopo = np.transpose(np.transpose(RCAco)[order2])\n",
    "# plt.imshow(RCAcopo,cmap=plt.cm.Greys)\n",
    "# plt.show()"
   ]
  },
  {
   "cell_type": "code",
   "execution_count": null,
   "metadata": {
    "collapsed": true
   },
   "outputs": [],
   "source": [
    "# wt1 = wt.loc[wt['export_rca'] >1]\n",
    "# x = wt1.loc[wt['year'] == 2014]\n",
    "# x['pcode'] = x['pcode'].apply(str)\n",
    "\n",
    "# co_contcode = {v: k for k, v in dict(enumerate(np.unique(x['ccode']))).iteritems()}\n",
    "# pr_contcode = {v: k for k, v in dict(enumerate(np.unique(x['pcode']))).iteritems()}\n",
    "\n",
    "# x = x.replace({\"ccode\": co_contcode})\n",
    "# x = x.replace({\"pcode\": pr_contcode})\n",
    "# # x\n",
    "# x = np.asarray(x, dtype=float)\n",
    "# x = np.array(x[:,(1,2)], dtype = int)"
   ]
  },
  {
   "cell_type": "code",
   "execution_count": null,
   "metadata": {
    "collapsed": false
   },
   "outputs": [],
   "source": [
    "# arg = wt.loc[(wt['ccode'] == 'arg')]\n",
    "\n",
    "# n = len(arg)\n",
    "\n",
    "\n",
    "# arg['rca_perc'] = arg['export_rca']\n",
    "# # grouped = arg.groupby('year')\n",
    "# # grouped.agg({'year': arg['rca_perc'].rank(method = 'max')})\n",
    "# arg['rca_perc'] = arg['rca_perc'].rank(method = 'max')/n\n",
    "# arg\n"
   ]
  },
  {
   "cell_type": "code",
   "execution_count": null,
   "metadata": {
    "collapsed": true
   },
   "outputs": [],
   "source": []
  }
 ],
 "metadata": {
  "kernelspec": {
   "display_name": "Python 2",
   "language": "python",
   "name": "python2"
  },
  "language_info": {
   "codemirror_mode": {
    "name": "ipython",
    "version": 2
   },
   "file_extension": ".py",
   "mimetype": "text/x-python",
   "name": "python",
   "nbconvert_exporter": "python",
   "pygments_lexer": "ipython2",
   "version": "2.7.11"
  }
 },
 "nbformat": 4,
 "nbformat_minor": 0
}
